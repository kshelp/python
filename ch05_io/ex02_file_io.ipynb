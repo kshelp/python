{
 "cells": [
  {
   "cell_type": "code",
   "execution_count": 1,
   "metadata": {},
   "outputs": [],
   "source": [
    "# 파일 입출력\n",
    "f = open(\"새파일.txt\", 'w')  # w: 쓰기모드, r:읽기, a:수정\n",
    "f.close()"
   ]
  },
  {
   "cell_type": "code",
   "execution_count": 5,
   "metadata": {},
   "outputs": [],
   "source": [
    "# 파일을 쓰기 모드로 열어 출력값을 적기\n",
    "f = open(\"새파일.txt\", \"w\", encoding=\"utf-8\")\n",
    "for i in range(1,11):  # 1~10\n",
    "    data = \"%d번재 줄입니다.\\n\" %i\n",
    "    f.write(data)\n",
    "f.close()"
   ]
  },
  {
   "cell_type": "code",
   "execution_count": 7,
   "metadata": {},
   "outputs": [
    {
     "name": "stdout",
     "output_type": "stream",
     "text": [
      "1번재 줄입니다.\n",
      "\n",
      "2번재 줄입니다.\n",
      "\n",
      "3번재 줄입니다.\n",
      "\n",
      "4번재 줄입니다.\n",
      "\n",
      "5번재 줄입니다.\n",
      "\n",
      "6번재 줄입니다.\n",
      "\n",
      "7번재 줄입니다.\n",
      "\n",
      "8번재 줄입니다.\n",
      "\n",
      "9번재 줄입니다.\n",
      "\n",
      "10번재 줄입니다.\n",
      "\n"
     ]
    }
   ],
   "source": [
    "# 프로그램의 외부에 저장된 파일을 읽는 여러가지 방법\n",
    "# 1. readline() 함수 사용하기\n",
    "f = open(\"새파일.txt\", 'r', encoding=\"utf-8\")\n",
    "while True:\n",
    "    line = f.readline()\n",
    "    if not line: break\n",
    "    print(line)\n",
    "f.close()"
   ]
  },
  {
   "cell_type": "code",
   "execution_count": 8,
   "metadata": {},
   "outputs": [
    {
     "name": "stdout",
     "output_type": "stream",
     "text": [
      "1번재 줄입니다.\n",
      "\n",
      "2번재 줄입니다.\n",
      "\n",
      "3번재 줄입니다.\n",
      "\n",
      "4번재 줄입니다.\n",
      "\n",
      "5번재 줄입니다.\n",
      "\n",
      "6번재 줄입니다.\n",
      "\n",
      "7번재 줄입니다.\n",
      "\n",
      "8번재 줄입니다.\n",
      "\n",
      "9번재 줄입니다.\n",
      "\n",
      "10번재 줄입니다.\n",
      "\n"
     ]
    }
   ],
   "source": [
    "# 2. readlines() 함수 이용하기\n",
    "f = open(\"새파일.txt\", \"r\", encoding=\"utf-8\")\n",
    "lines = f.readlines() # ['1번줄내용', '2번줄내용']\n",
    "for line in lines:\n",
    "    print(line)\n",
    "f.close()"
   ]
  },
  {
   "cell_type": "code",
   "execution_count": 9,
   "metadata": {},
   "outputs": [
    {
     "name": "stdout",
     "output_type": "stream",
     "text": [
      "1번재 줄입니다.\n",
      "2번재 줄입니다.\n",
      "3번재 줄입니다.\n",
      "4번재 줄입니다.\n",
      "5번재 줄입니다.\n",
      "6번재 줄입니다.\n",
      "7번재 줄입니다.\n",
      "8번재 줄입니다.\n",
      "9번재 줄입니다.\n",
      "10번재 줄입니다.\n",
      "\n"
     ]
    }
   ],
   "source": [
    "# 3. read() 함수 이용하기\n",
    "f = open(\"새파일.txt\", 'r', encoding=\"utf-8\")\n",
    "data = f.read()  # read()는 전체내용을 문자열로 가져온다. \n",
    "# data = \"1행내용\\n2행내용\\n3행내용\"\n",
    "print(data)\n",
    "f.close()"
   ]
  },
  {
   "cell_type": "code",
   "execution_count": 10,
   "metadata": {},
   "outputs": [],
   "source": [
    "# 파일에 새로운 내용 추가하기\n",
    "f = open(\"새파일.txt\", 'a', encoding=\"utf-8\")\n",
    "for i in range(11,20):  # 11~19를 i에 대입\n",
    "    data = \"%d번째 줄입니다.\\n\" %i\n",
    "    f.write(data)\n",
    "f.close()"
   ]
  },
  {
   "cell_type": "code",
   "execution_count": 11,
   "metadata": {},
   "outputs": [],
   "source": [
    "# with문과 함께 사용하기: 파일을 열고 닫는 것을 자동으로 처리한다.\n",
    "f = open(\"새파일.txt\", 'w')\n",
    "f.write(\"Life is too short, you need python\")\n",
    "f.close()"
   ]
  },
  {
   "cell_type": "code",
   "execution_count": 12,
   "metadata": {},
   "outputs": [],
   "source": [
    "with open(\"새파일.txt\", 'w') as f:\n",
    "    f.write(\"Life is good.\")"
   ]
  },
  {
   "cell_type": "code",
   "execution_count": 14,
   "metadata": {},
   "outputs": [
    {
     "name": "stdout",
     "output_type": "stream",
     "text": [
      "['red', 'green', 'black']\n"
     ]
    }
   ],
   "source": [
    "# pickle 모듈을 이용하여 리스트와 클래스 저장하기\n",
    "colors = ['red', 'green', 'black']\n",
    "print(colors)\n",
    "import pickle\n",
    "f = open('colors.bin', 'wb') # wb: binary write 모드\n",
    "pickle.dump(colors,f)\n",
    "f.close()"
   ]
  },
  {
   "cell_type": "code",
   "execution_count": 15,
   "metadata": {},
   "outputs": [
    {
     "name": "stdout",
     "output_type": "stream",
     "text": [
      "['red', 'green', 'black']\n"
     ]
    }
   ],
   "source": [
    "f = open(\"colors.bin\",'rb')  # rb: binary read 모드\n",
    "b = pickle.load(f)\n",
    "print(b)\n",
    "f.close()"
   ]
  },
  {
   "cell_type": "code",
   "execution_count": null,
   "metadata": {},
   "outputs": [],
   "source": []
  }
 ],
 "metadata": {
  "kernelspec": {
   "display_name": "Python 3",
   "language": "python",
   "name": "python3"
  },
  "language_info": {
   "codemirror_mode": {
    "name": "ipython",
    "version": 3
   },
   "file_extension": ".py",
   "mimetype": "text/x-python",
   "name": "python",
   "nbconvert_exporter": "python",
   "pygments_lexer": "ipython3",
   "version": "3.7.1"
  }
 },
 "nbformat": 4,
 "nbformat_minor": 2
}
