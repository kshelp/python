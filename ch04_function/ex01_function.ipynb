{
 "cells": [
  {
   "cell_type": "code",
   "execution_count": 2,
   "metadata": {},
   "outputs": [
    {
     "name": "stdout",
     "output_type": "stream",
     "text": [
      "test=3\n",
      "test=3\n",
      "test=3\n"
     ]
    }
   ],
   "source": [
    "# 파이썬 함수의 구조\n",
    "# def 함수명(인자1, 인자1,,,):\n",
    "#     실행문\n",
    "#     return 반환값\n",
    "a = 3\n",
    "print(f\"test={a}\")\n",
    "print(\"test=%d\" % a)\n",
    "print(\"test={0}\".format(a))"
   ]
  },
  {
   "cell_type": "code",
   "execution_count": 9,
   "metadata": {},
   "outputs": [
    {
     "name": "stdout",
     "output_type": "stream",
     "text": [
      "7\n"
     ]
    }
   ],
   "source": [
    "# 사용자 정의 함수 선언\n",
    "def add(a, b):\n",
    "    return a + b\n",
    "\n",
    "#print(add)\n",
    "print(add(3, 4))"
   ]
  },
  {
   "cell_type": "code",
   "execution_count": 10,
   "metadata": {},
   "outputs": [
    {
     "name": "stdout",
     "output_type": "stream",
     "text": [
      "['ArithmeticError', 'AssertionError', 'AttributeError', 'BaseException', 'BlockingIOError', 'BrokenPipeError', 'BufferError', 'BytesWarning', 'ChildProcessError', 'ConnectionAbortedError', 'ConnectionError', 'ConnectionRefusedError', 'ConnectionResetError', 'DeprecationWarning', 'EOFError', 'Ellipsis', 'EnvironmentError', 'Exception', 'False', 'FileExistsError', 'FileNotFoundError', 'FloatingPointError', 'FutureWarning', 'GeneratorExit', 'IOError', 'ImportError', 'ImportWarning', 'IndentationError', 'IndexError', 'InterruptedError', 'IsADirectoryError', 'KeyError', 'KeyboardInterrupt', 'LookupError', 'MemoryError', 'ModuleNotFoundError', 'NameError', 'None', 'NotADirectoryError', 'NotImplemented', 'NotImplementedError', 'OSError', 'OverflowError', 'PendingDeprecationWarning', 'PermissionError', 'ProcessLookupError', 'RecursionError', 'ReferenceError', 'ResourceWarning', 'RuntimeError', 'RuntimeWarning', 'StopAsyncIteration', 'StopIteration', 'SyntaxError', 'SyntaxWarning', 'SystemError', 'SystemExit', 'TabError', 'TimeoutError', 'True', 'TypeError', 'UnboundLocalError', 'UnicodeDecodeError', 'UnicodeEncodeError', 'UnicodeError', 'UnicodeTranslateError', 'UnicodeWarning', 'UserWarning', 'ValueError', 'Warning', 'WindowsError', 'ZeroDivisionError', '__IPYTHON__', '__build_class__', '__debug__', '__doc__', '__import__', '__loader__', '__name__', '__package__', '__spec__', 'abs', 'all', 'any', 'ascii', 'bin', 'bool', 'breakpoint', 'bytearray', 'bytes', 'callable', 'chr', 'classmethod', 'compile', 'complex', 'copyright', 'credits', 'delattr', 'dict', 'dir', 'display', 'divmod', 'enumerate', 'eval', 'exec', 'filter', 'float', 'format', 'frozenset', 'get_ipython', 'getattr', 'globals', 'hasattr', 'hash', 'help', 'hex', 'id', 'input', 'int', 'isinstance', 'issubclass', 'iter', 'len', 'license', 'list', 'locals', 'map', 'max', 'memoryview', 'min', 'next', 'object', 'oct', 'open', 'ord', 'pow', 'print', 'property', 'range', 'repr', 'reversed', 'round', 'set', 'setattr', 'slice', 'sorted', 'staticmethod', 'str', 'sum', 'super', 'tuple', 'type', 'vars', 'zip']\n"
     ]
    }
   ],
   "source": [
    "# 내장함수 목록 확인하기\n",
    "print(dir(__builtins__))  # __builtins__는 내장 영역의 이름이 저장돼 있는 리스트 변수"
   ]
  },
  {
   "cell_type": "code",
   "execution_count": 11,
   "metadata": {},
   "outputs": [
    {
     "name": "stdout",
     "output_type": "stream",
     "text": [
      "6\n"
     ]
    }
   ],
   "source": [
    "x = [1,2,3]\n",
    "print(sum(x))"
   ]
  },
  {
   "cell_type": "code",
   "execution_count": 13,
   "metadata": {},
   "outputs": [
    {
     "name": "stdout",
     "output_type": "stream",
     "text": [
      "7\n"
     ]
    }
   ],
   "source": [
    "# 함수의 형태\n",
    "# 1. 일반적인 함수: 입력값과 결과값이 있는 경우\n",
    "def sum1(a, b):\n",
    "    result = a + b\n",
    "    return result\n",
    "\n",
    "total = sum1(3,4)\n",
    "print(total)"
   ]
  },
  {
   "cell_type": "code",
   "execution_count": 14,
   "metadata": {},
   "outputs": [
    {
     "name": "stdout",
     "output_type": "stream",
     "text": [
      "Hi\n"
     ]
    }
   ],
   "source": [
    "# 2. 입력값이 없는 함수\n",
    "def say():\n",
    "    return \"Hi\"\n",
    "\n",
    "a = say()\n",
    "print(a)"
   ]
  },
  {
   "cell_type": "code",
   "execution_count": 16,
   "metadata": {},
   "outputs": [
    {
     "name": "stdout",
     "output_type": "stream",
     "text": [
      "3, 4의 합은 7입니다.\n",
      "None\n"
     ]
    }
   ],
   "source": [
    "# 결과값이 없는 함수\n",
    "def sum2(a, b):\n",
    "    print(f\"{a}, {b}의 합은 {a+b}입니다.\")\n",
    "\n",
    "total = sum2(3,4)\n",
    "print(total)"
   ]
  },
  {
   "cell_type": "code",
   "execution_count": 17,
   "metadata": {},
   "outputs": [
    {
     "name": "stdout",
     "output_type": "stream",
     "text": [
      "Hi\n",
      "None\n"
     ]
    }
   ],
   "source": [
    "# 4. 입력값도 결과값도 없는 함수\n",
    "def say1():\n",
    "    print(\"Hi\")\n",
    "\n",
    "ret = say1()\n",
    "print(ret)"
   ]
  },
  {
   "cell_type": "code",
   "execution_count": 19,
   "metadata": {},
   "outputs": [
    {
     "name": "stdout",
     "output_type": "stream",
     "text": [
      "200\n",
      "100\n"
     ]
    }
   ],
   "source": [
    "# 함수의 인자\n",
    "# 기본 인자 값\n",
    "def Times(a=10, b=20):\n",
    "    return a*b\n",
    "\n",
    "print(Times())\n",
    "print(Times(5)) # a에만 5가 할당된다."
   ]
  },
  {
   "cell_type": "code",
   "execution_count": 20,
   "metadata": {},
   "outputs": [
    {
     "name": "stdout",
     "output_type": "stream",
     "text": [
      "나의 이름은 박응용입니다.\n",
      "나이는 27살입니다.\n",
      "남자입니다.\n"
     ]
    }
   ],
   "source": [
    "def say_myself(name, old, man=True):\n",
    "    print(\"나의 이름은 %s입니다.\" %name)\n",
    "    print(\"나이는 %d살입니다.\" %old)\n",
    "    if man:\n",
    "        print(\"남자입니다.\")\n",
    "    else:\n",
    "        print(\"여자입니다.\")\n",
    "\n",
    "say_myself(\"박응용\",27)\n"
   ]
  },
  {
   "cell_type": "code",
   "execution_count": 21,
   "metadata": {},
   "outputs": [
    {
     "name": "stdout",
     "output_type": "stream",
     "text": [
      "나의 이름은 박응용입니다.\n",
      "나이는 27살입니다.\n",
      "남자입니다.\n"
     ]
    }
   ],
   "source": [
    "say_myself(\"박응용\",27,True)"
   ]
  },
  {
   "cell_type": "code",
   "execution_count": 22,
   "metadata": {},
   "outputs": [
    {
     "name": "stdout",
     "output_type": "stream",
     "text": [
      "나의 이름은 박응용입니다.\n",
      "나이는 27살입니다.\n",
      "여자입니다.\n"
     ]
    }
   ],
   "source": [
    "say_myself(\"박응용\",27,False)"
   ]
  },
  {
   "cell_type": "code",
   "execution_count": 25,
   "metadata": {},
   "outputs": [
    {
     "name": "stdout",
     "output_type": "stream",
     "text": [
      "7\n",
      "10\n"
     ]
    }
   ],
   "source": [
    "# 함수 안에서 선언된 변수의 효력 범위\n",
    "x = 10  # x는 전역변수\n",
    "def sum2(x, y):\n",
    "    x = 1  # x는 로컬변수\n",
    "    return x+y\n",
    "\n",
    "print(sum2(x,6))\n",
    "print(x)"
   ]
  },
  {
   "cell_type": "code",
   "execution_count": 31,
   "metadata": {},
   "outputs": [
    {
     "name": "stdout",
     "output_type": "stream",
     "text": [
      "1\n"
     ]
    }
   ],
   "source": [
    "a = 1  # 전역변수\n",
    "def vartest(b):\n",
    "    a = b + 1 # a는 지역변수\n",
    "vartest(1)\n",
    "print(a)"
   ]
  },
  {
   "cell_type": "code",
   "execution_count": 32,
   "metadata": {},
   "outputs": [
    {
     "name": "stdout",
     "output_type": "stream",
     "text": [
      "2\n"
     ]
    }
   ],
   "source": [
    "a = 1  # 전역변수\n",
    "def vartest(b):\n",
    "    global a\n",
    "    a = b + 1 # a는 지역변수\n",
    "vartest(1)\n",
    "print(a)"
   ]
  },
  {
   "cell_type": "code",
   "execution_count": 35,
   "metadata": {},
   "outputs": [
    {
     "name": "stdout",
     "output_type": "stream",
     "text": [
      "http://test.com:8080\n",
      "http://test.com:8080\n"
     ]
    }
   ],
   "source": [
    "# 키워드 인자\n",
    "def connectURI(server, port):\n",
    "    str = \"http://\" + server + \":\" + port\n",
    "    return str\n",
    "\n",
    "print(connectURI(\"test.com\", \"8080\"))\n",
    "print(connectURI(port=\"8080\", server=\"test.com\"))"
   ]
  },
  {
   "cell_type": "code",
   "execution_count": 37,
   "metadata": {},
   "outputs": [
    {
     "name": "stdout",
     "output_type": "stream",
     "text": [
      "6\n",
      "15\n"
     ]
    }
   ],
   "source": [
    "# 가변 인자 리스트\n",
    "def sum_many(*args):\n",
    "    sum = 0\n",
    "    for i in args:\n",
    "        sum = sum + i\n",
    "    return sum\n",
    "\n",
    "print(sum_many(1,2,3))\n",
    "print(sum_many(1,2,3,4,5))"
   ]
  },
  {
   "cell_type": "code",
   "execution_count": 39,
   "metadata": {},
   "outputs": [
    {
     "name": "stdout",
     "output_type": "stream",
     "text": [
      "10\n",
      "24\n"
     ]
    }
   ],
   "source": [
    "def sum_mul(choice, *args):\n",
    "    if choice == \"sum\":\n",
    "        result = 0\n",
    "        for i in args:\n",
    "            result += i\n",
    "    elif choice == \"mul\":\n",
    "        result = 1\n",
    "        for i in args:\n",
    "            result = result * i\n",
    "    return result\n",
    "\n",
    "print(sum_mul(\"sum\", 1,2,3,4))\n",
    "print(sum_mul(\"mul\", 1,2,3,4))"
   ]
  },
  {
   "cell_type": "code",
   "execution_count": 43,
   "metadata": {},
   "outputs": [
    {
     "data": {
      "text/plain": [
       "'http://test.com:8080/?id=userid&password=1234&'"
      ]
     },
     "execution_count": 43,
     "metadata": {},
     "output_type": "execute_result"
    }
   ],
   "source": [
    "# 정의되지 않은 인자 처리하기\n",
    "def userURIBuilder(server, port, **user):\n",
    "    str = \"http://\"+server+\":\"+port+\"/?\"\n",
    "    \n",
    "    # user = {\"id\":\"userid\", \"password\":\"1234\"}\n",
    "    # user.keys() = [\"id\", \"password\"]\n",
    "    for key in user.keys():  # 디션너리형.keys()는 키값을 리스트 반환한다.\n",
    "        str += key +\"=\" + user[key] + \"&\"\n",
    "    return str\n",
    "    \n",
    "\n",
    "userURIBuilder(\"test.com\", \"8080\", id='userid',password='1234')\n"
   ]
  },
  {
   "cell_type": "code",
   "execution_count": 47,
   "metadata": {},
   "outputs": [
    {
     "name": "stdout",
     "output_type": "stream",
     "text": [
      "6\n",
      "<function <lambda> at 0x000002599321D0D0>\n"
     ]
    }
   ],
   "source": [
    "# 람다 함수 \n",
    "# 정의: \n",
    "# lamba 인자: 구문\n",
    "g = lambda x,y : x*y\n",
    "print(g(2,3))"
   ]
  },
  {
   "cell_type": "code",
   "execution_count": 48,
   "metadata": {},
   "outputs": [
    {
     "name": "stdout",
     "output_type": "stream",
     "text": [
      "9\n"
     ]
    }
   ],
   "source": [
    "print((lambda x:x*x)(3))"
   ]
  },
  {
   "cell_type": "code",
   "execution_count": 49,
   "metadata": {},
   "outputs": [
    {
     "name": "stdout",
     "output_type": "stream",
     "text": [
      "9\n"
     ]
    }
   ],
   "source": [
    "def mul(x):\n",
    "    return x*x\n",
    "\n",
    "print(mul(3))"
   ]
  },
  {
   "cell_type": "code",
   "execution_count": 52,
   "metadata": {},
   "outputs": [
    {
     "name": "stdout",
     "output_type": "stream",
     "text": [
      "[1, 4, 9, 16, 25]\n"
     ]
    }
   ],
   "source": [
    "def sqrt(x):\n",
    "    x = x*x\n",
    "    return x\n",
    "\n",
    "# map(함수, 반복가능한 자료형)\n",
    "# list(인자)는 인자를 리스트형으로 반환한다.\n",
    "print(list(map(sqrt, [1,2,3,4,5])))"
   ]
  },
  {
   "cell_type": "code",
   "execution_count": 55,
   "metadata": {},
   "outputs": [
    {
     "name": "stdout",
     "output_type": "stream",
     "text": [
      "[1, 4, 9, 16, 25]\n"
     ]
    }
   ],
   "source": [
    "print(list(map(lambda x:x*x, [1,2,3,4,5])))"
   ]
  },
  {
   "cell_type": "code",
   "execution_count": 56,
   "metadata": {},
   "outputs": [
    {
     "name": "stdout",
     "output_type": "stream",
     "text": [
      "6\n"
     ]
    }
   ],
   "source": [
    "# 재귀적 함수 호출\n",
    "def factorial(x):\n",
    "    if x == 1:\n",
    "        return 1\n",
    "    return x * factorial(x-1)\n",
    "\n",
    "print(factorial(3))\n",
    "# 3! = 3 x 2 x 1 = 6"
   ]
  },
  {
   "cell_type": "code",
   "execution_count": 59,
   "metadata": {},
   "outputs": [
    {
     "name": "stdout",
     "output_type": "stream",
     "text": [
      "1 번 기둥의 1 번 원반을 3 번 기둥에 옮깁니다.\n",
      "1 번 기둥의 2 번 원반을 2 번 기둥에 옮깁니다.\n",
      "3 번 기둥의 1 번 원반을 2 번 기둥에 옮깁니다.\n",
      "1 번 기둥의 3 번 원반을 3 번 기둥에 옮깁니다.\n",
      "2 번 기둥의 1 번 원반을 1 번 기둥에 옮깁니다.\n",
      "2 번 기둥의 2 번 원반을 3 번 기둥에 옮깁니다.\n",
      "1 번 기둥의 1 번 원반을 3 번 기둥에 옮깁니다.\n"
     ]
    }
   ],
   "source": [
    "# Tower of Hanoi\n",
    "def hanoi(ndisks, startPeg=1, endPeg=3):\n",
    "    if ndisks:\n",
    "        hanoi(ndisks-1, startPeg, 6-startPeg-endPeg)\n",
    "        print(startPeg, \"번 기둥의\", ndisks, \"번 원반을\", endPeg, \"번 기둥에 옮깁니다.\")\n",
    "        hanoi(ndisks-1, 6-startPeg-endPeg, endPeg)\n",
    "        \n",
    "hanoi(ndisks=3)"
   ]
  },
  {
   "cell_type": "code",
   "execution_count": 62,
   "metadata": {},
   "outputs": [
    {
     "name": "stdout",
     "output_type": "stream",
     "text": [
      "True\n",
      "False\n"
     ]
    }
   ],
   "source": [
    "# Q1 주어진 자연수가 홀수인지 짝수인지 판별해 주는 함수(is_odd)를 작성해 보자\n",
    "def is_odd(number):\n",
    "    if number % 2 ==1:  # 2로 나누었을 때 1이면 홀수이다.\n",
    "        return True\n",
    "    else:\n",
    "        return False\n",
    "\n",
    "print(is_odd(3))\n",
    "print(is_odd(4))"
   ]
  },
  {
   "cell_type": "code",
   "execution_count": 64,
   "metadata": {},
   "outputs": [
    {
     "name": "stdout",
     "output_type": "stream",
     "text": [
      "1.5\n",
      "5.0\n"
     ]
    }
   ],
   "source": [
    "# Q2 입력으로 들어오는 모든 수의 평균 값을 계산해 주는 함수를 작성해 보자.\n",
    "# (단 입력으로 들어오는 수의 개수는 정해져 있지 않다.)\n",
    "def avg_numbers(*args):\n",
    "    result = 0\n",
    "    for i in args:\n",
    "        result += i\n",
    "    return result / len(args)\n",
    "\n",
    "print(avg_numbers(1,2))\n",
    "print(avg_numbers(1,2,3,4,5,6,7,8,9))"
   ]
  }
 ],
 "metadata": {
  "kernelspec": {
   "display_name": "Python 3",
   "language": "python",
   "name": "python3"
  },
  "language_info": {
   "codemirror_mode": {
    "name": "ipython",
    "version": 3
   },
   "file_extension": ".py",
   "mimetype": "text/x-python",
   "name": "python",
   "nbconvert_exporter": "python",
   "pygments_lexer": "ipython3",
   "version": "3.7.1"
  }
 },
 "nbformat": 4,
 "nbformat_minor": 2
}
