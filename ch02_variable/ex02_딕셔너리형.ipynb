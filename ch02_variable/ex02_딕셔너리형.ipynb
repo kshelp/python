{
 "cells": [
  {
   "cell_type": "code",
   "execution_count": 1,
   "metadata": {},
   "outputs": [
    {
     "name": "stdout",
     "output_type": "stream",
     "text": [
      "{'name': 'pey', 'phone': '010-234-3432', 'birth': '0803'}\n"
     ]
    }
   ],
   "source": [
    "# 딕셔너리\n",
    "# {'key1':'value1', 'key2':'value2'}\n",
    "dic = {'name':'pey', 'phone':'010-234-3432', 'birth':'0803'}\n",
    "print(dic)"
   ]
  },
  {
   "cell_type": "code",
   "execution_count": 2,
   "metadata": {},
   "outputs": [
    {
     "name": "stdout",
     "output_type": "stream",
     "text": [
      "{'a': [1, 2, 3]}\n"
     ]
    }
   ],
   "source": [
    "a = {'a':[1,2,3]}\n",
    "print(a)"
   ]
  },
  {
   "cell_type": "code",
   "execution_count": 3,
   "metadata": {},
   "outputs": [
    {
     "name": "stdout",
     "output_type": "stream",
     "text": [
      "{'a': 1, 'b': 3, 'c': 5}\n",
      "<class 'dict'>\n"
     ]
    }
   ],
   "source": [
    "d = dict(a=1, b=3, c=5)  # dict()함수는 인수를 딕셔너리형으로 만든다.\n",
    "print(d)\n",
    "print(type(d))"
   ]
  },
  {
   "cell_type": "code",
   "execution_count": 4,
   "metadata": {},
   "outputs": [
    {
     "name": "stdout",
     "output_type": "stream",
     "text": [
      "{1: 'a', 2: 'b'}\n"
     ]
    }
   ],
   "source": [
    "# 딕셔너리 쌍 추가, 삭제하기\n",
    "a = {1:'a'}\n",
    "a[2] = 'b'\n",
    "print(a)"
   ]
  },
  {
   "cell_type": "code",
   "execution_count": 5,
   "metadata": {},
   "outputs": [
    {
     "name": "stdout",
     "output_type": "stream",
     "text": [
      "b\n"
     ]
    }
   ],
   "source": [
    "print(a[2])"
   ]
  },
  {
   "cell_type": "code",
   "execution_count": 6,
   "metadata": {},
   "outputs": [
    {
     "name": "stdout",
     "output_type": "stream",
     "text": [
      "{1: 'a', 2: 'b', 'name': 'pey'}\n"
     ]
    }
   ],
   "source": [
    "a['name'] = 'pey'\n",
    "print(a)"
   ]
  },
  {
   "cell_type": "code",
   "execution_count": 7,
   "metadata": {},
   "outputs": [
    {
     "name": "stdout",
     "output_type": "stream",
     "text": [
      "{1: 'a', 'name': 'pey'}\n"
     ]
    }
   ],
   "source": [
    "del a[2]\n",
    "print(a)"
   ]
  },
  {
   "cell_type": "code",
   "execution_count": 9,
   "metadata": {},
   "outputs": [
    {
     "name": "stdout",
     "output_type": "stream",
     "text": [
      "99\n",
      "10\n"
     ]
    }
   ],
   "source": [
    "# 딕셔너리를 사용하는 방법\n",
    "grade = {'pey':10, 'juliet': 99}\n",
    "print(grade['juliet'])\n",
    "print(grade['pey'])"
   ]
  },
  {
   "cell_type": "code",
   "execution_count": 11,
   "metadata": {},
   "outputs": [
    {
     "name": "stdout",
     "output_type": "stream",
     "text": [
      "{1: 'b', 2: 'b'}\n"
     ]
    }
   ],
   "source": [
    "# 딕셔너리 만들때 주의할 사항\n",
    "# 키는 중복할 수 없고 값을 중복할 수 있다. java에서 map과 같다.\n",
    "a = {1:'a', 1:'b', 2:'b'}\n",
    "print(a)"
   ]
  },
  {
   "cell_type": "code",
   "execution_count": 13,
   "metadata": {},
   "outputs": [
    {
     "name": "stdout",
     "output_type": "stream",
     "text": [
      "['name', 'phone', 'birth']\n"
     ]
    }
   ],
   "source": [
    "# 딕셔너리 관련 함수들\n",
    "# key 리스트 만들기(keys)\n",
    "a = {'name':'pey', 'phone':'010-2343-2343', 'birth':'1108'}\n",
    "a = a.keys()\n",
    "print(list(a))"
   ]
  },
  {
   "cell_type": "code",
   "execution_count": 15,
   "metadata": {},
   "outputs": [
    {
     "name": "stdout",
     "output_type": "stream",
     "text": [
      "name pey\n",
      "phone 010-2343-2343\n",
      "birth 1108\n"
     ]
    }
   ],
   "source": [
    "a = {'name':'pey', 'phone':'010-2343-2343', 'birth':'1108'}\n",
    "for d in a.keys(): # ['name','phone','birth']\n",
    "    print(d, a[d])"
   ]
  },
  {
   "cell_type": "code",
   "execution_count": 19,
   "metadata": {},
   "outputs": [
    {
     "name": "stdout",
     "output_type": "stream",
     "text": [
      "['pey', '010-2343-2343', '1108']\n"
     ]
    }
   ],
   "source": [
    "# Value 리스트 만들(values)\n",
    "print(list(a.values()))"
   ]
  },
  {
   "cell_type": "code",
   "execution_count": 22,
   "metadata": {},
   "outputs": [
    {
     "name": "stdout",
     "output_type": "stream",
     "text": [
      "[('name', 'pey'), ('phone', '010-2343-2343'), ('birth', '1108')]\n"
     ]
    }
   ],
   "source": [
    "# key, value 쌍 얻기(items)\n",
    "print(list(a.items()))"
   ]
  },
  {
   "cell_type": "code",
   "execution_count": null,
   "metadata": {},
   "outputs": [],
   "source": []
  }
 ],
 "metadata": {
  "kernelspec": {
   "display_name": "Python 3",
   "language": "python",
   "name": "python3"
  },
  "language_info": {
   "codemirror_mode": {
    "name": "ipython",
    "version": 3
   },
   "file_extension": ".py",
   "mimetype": "text/x-python",
   "name": "python",
   "nbconvert_exporter": "python",
   "pygments_lexer": "ipython3",
   "version": "3.7.1"
  }
 },
 "nbformat": 4,
 "nbformat_minor": 2
}
