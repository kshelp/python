{
 "cells": [
  {
   "cell_type": "code",
   "execution_count": 1,
   "metadata": {},
   "outputs": [],
   "source": [
    "# 숫자 자료형\n",
    "# 정수형\n",
    "a = 123\n",
    "a = -178\n",
    "a = 0"
   ]
  },
  {
   "cell_type": "code",
   "execution_count": 3,
   "metadata": {},
   "outputs": [],
   "source": [
    "# 실수형\n",
    "a = 1.2\n",
    "a = -3.45\n",
    "a = 4.24E10  # 4.24 x 10^10\n",
    "a = 4.24E-10 # 4.24 x 10^-10"
   ]
  },
  {
   "cell_type": "code",
   "execution_count": 4,
   "metadata": {},
   "outputs": [],
   "source": [
    "# 8진수와 16진수\n",
    "a = 0o177\n",
    "a = 0x8ff"
   ]
  },
  {
   "cell_type": "code",
   "execution_count": 7,
   "metadata": {},
   "outputs": [
    {
     "name": "stdout",
     "output_type": "stream",
     "text": [
      "7\n",
      "12\n",
      "0.75\n"
     ]
    }
   ],
   "source": [
    "# 숫자 자료형을 활용하기 위한 연산자\n",
    "# 사칙연산\n",
    "a = 3\n",
    "b = 4\n",
    "print(a+b)  # print() 함수는 내장함수로 표준출력장치(콘솔=모니터)에 내용을 표시한다.\n",
    "print(a*b)\n",
    "print(a/b)"
   ]
  },
  {
   "cell_type": "code",
   "execution_count": 8,
   "metadata": {},
   "outputs": [
    {
     "name": "stdout",
     "output_type": "stream",
     "text": [
      "81\n"
     ]
    }
   ],
   "source": [
    "# x의 y제곱을 나타내는 ** 연산자\n",
    "print(a ** b)  # 3^4"
   ]
  },
  {
   "cell_type": "code",
   "execution_count": 10,
   "metadata": {},
   "outputs": [
    {
     "name": "stdout",
     "output_type": "stream",
     "text": [
      "1\n",
      "3\n"
     ]
    }
   ],
   "source": [
    "# 나눗셈 후 나머지를 변환하는 % 연산자\n",
    "print(7%3)\n",
    "print(3%7)"
   ]
  },
  {
   "cell_type": "code",
   "execution_count": 12,
   "metadata": {},
   "outputs": [
    {
     "name": "stdout",
     "output_type": "stream",
     "text": [
      "1.75\n",
      "1\n"
     ]
    }
   ],
   "source": [
    "# 나눗셈 후 소수점 아래자리를 버리는 // 연산자\n",
    "print(7/4)\n",
    "print(7//4) # 정수로 표시(리턴) 한다."
   ]
  },
  {
   "cell_type": "code",
   "execution_count": 17,
   "metadata": {},
   "outputs": [
    {
     "data": {
      "text/plain": [
       "'Life is too short,\\nYou need python.'"
      ]
     },
     "execution_count": 17,
     "metadata": {},
     "output_type": "execute_result"
    }
   ],
   "source": [
    "# 문자열 자료형\n",
    "\"Hello World\"\n",
    "'Python is fun'\n",
    "\"\"\"Life is too short,\n",
    "You need python.\"\"\"\n",
    "'''Life is too short,\n",
    "You need python.'''\n",
    "#print('''Life is too short,\n",
    "#You need python.''')"
   ]
  },
  {
   "cell_type": "code",
   "execution_count": 20,
   "metadata": {},
   "outputs": [
    {
     "name": "stdout",
     "output_type": "stream",
     "text": [
      "Python's favorite food is perl.\n"
     ]
    }
   ],
   "source": [
    "# 문자열에 따옴표 포함시키져 변환에 할당\n",
    "food = \"Python's favorite food is perl.\"\n",
    "print(food)"
   ]
  },
  {
   "cell_type": "code",
   "execution_count": 21,
   "metadata": {},
   "outputs": [
    {
     "name": "stdout",
     "output_type": "stream",
     "text": [
      "Python's favorite food is perl.\n"
     ]
    }
   ],
   "source": [
    "food = 'Python\\'s favorite food is perl.'\n",
    "print(food)"
   ]
  },
  {
   "cell_type": "code",
   "execution_count": 22,
   "metadata": {},
   "outputs": [],
   "source": [
    "say = '\"Python is very esay.\" he says.'"
   ]
  },
  {
   "cell_type": "code",
   "execution_count": 26,
   "metadata": {},
   "outputs": [
    {
     "name": "stdout",
     "output_type": "stream",
     "text": [
      "Life is too short. \n",
      "You need \tpython\n"
     ]
    }
   ],
   "source": [
    "# 여러 줄인 문자열을 변수에 대입하고 싶을 때\n",
    "multiline = \"Life is too short. \\nYou need \\tpython\"\n",
    "print(multiline)"
   ]
  },
  {
   "cell_type": "code",
   "execution_count": 29,
   "metadata": {},
   "outputs": [
    {
     "data": {
      "text/plain": [
       "'Life is too short.\\nYou need python'"
      ]
     },
     "execution_count": 29,
     "metadata": {},
     "output_type": "execute_result"
    }
   ],
   "source": [
    "multiline = '''Life is too short.\n",
    "You need python'''\n",
    "multiline"
   ]
  },
  {
   "cell_type": "code",
   "execution_count": 30,
   "metadata": {},
   "outputs": [
    {
     "name": "stdout",
     "output_type": "stream",
     "text": [
      "Python is fun!\n"
     ]
    }
   ],
   "source": [
    "# 문자열 연산하기\n",
    "head = \"Python\"\n",
    "tail = ' is fun!'\n",
    "print( head + tail )"
   ]
  },
  {
   "cell_type": "code",
   "execution_count": 32,
   "metadata": {},
   "outputs": [
    {
     "name": "stdout",
     "output_type": "stream",
     "text": [
      "Python3\n"
     ]
    }
   ],
   "source": [
    "num = 3\n",
    "print(head + str(num))  \n",
    "# java, \"문자열\" + 숫자 = \"문자열\", 예)\"숫자\" + 3 = \"숫자3\"\n",
    "# pthon, \"문자열\" + \"문자열\"  = \"문자열\", 예) \"숫자\" + str(3) = \"숫자3\" "
   ]
  },
  {
   "cell_type": "code",
   "execution_count": 33,
   "metadata": {},
   "outputs": [
    {
     "name": "stdout",
     "output_type": "stream",
     "text": [
      "PythonPython\n"
     ]
    }
   ],
   "source": [
    "print(head * 2)"
   ]
  },
  {
   "cell_type": "code",
   "execution_count": 36,
   "metadata": {},
   "outputs": [
    {
     "name": "stdout",
     "output_type": "stream",
     "text": [
      "--------------------------------------------------\n",
      "My program\n",
      "--------------------------------------------------\n"
     ]
    }
   ],
   "source": [
    "print(\"-\"*50)\n",
    "print(\"My program\")\n",
    "print(\"-\"*50)"
   ]
  },
  {
   "cell_type": "code",
   "execution_count": 41,
   "metadata": {},
   "outputs": [
    {
     "name": "stdout",
     "output_type": "stream",
     "text": [
      "L\n",
      "s\n",
      "n\n",
      "Life\n"
     ]
    }
   ],
   "source": [
    "# 문자열 인덱싱과 슬라이싱\n",
    "a = \"Life is too short, you need Python\"\n",
    "print(a[0])\n",
    "print(a[12])\n",
    "print(a[-1])\n",
    "print(a[0:4])"
   ]
  },
  {
   "cell_type": "code",
   "execution_count": 43,
   "metadata": {},
   "outputs": [
    {
     "name": "stdout",
     "output_type": "stream",
     "text": [
      "20010331\n",
      "Rain\n"
     ]
    }
   ],
   "source": [
    "# 슬라이싱으로 문자열 나누기\n",
    "a = \"20010331Rain\"\n",
    "date = a[:8]\n",
    "weather = a[8:]\n",
    "print(date)\n",
    "print(weather)"
   ]
  },
  {
   "cell_type": "code",
   "execution_count": 46,
   "metadata": {},
   "outputs": [
    {
     "name": "stdout",
     "output_type": "stream",
     "text": [
      "여성\n"
     ]
    }
   ],
   "source": [
    "ssn = \"19800803-2032824\"\n",
    "sex = ssn[9]\n",
    "if sex == \"1\":\n",
    "    print(\"남성\")\n",
    "else:\n",
    "    print(\"여성\")"
   ]
  },
  {
   "cell_type": "code",
   "execution_count": 47,
   "metadata": {},
   "outputs": [
    {
     "name": "stdout",
     "output_type": "stream",
     "text": [
      "I eat 3 apples.\n"
     ]
    }
   ],
   "source": [
    "# 문자열 포매팅\n",
    "print(\"I eat %d apples.\" %3)"
   ]
  },
  {
   "cell_type": "code",
   "execution_count": 50,
   "metadata": {},
   "outputs": [
    {
     "name": "stdout",
     "output_type": "stream",
     "text": [
      "I ate 10 apples, so I was sick for three day.\n"
     ]
    }
   ],
   "source": [
    "number = 10  # 정수\n",
    "day = \"three\"  # 문자열\n",
    "print(\"I ate %d apples, so I was sick for %s day.\" %(number, day))"
   ]
  },
  {
   "cell_type": "code",
   "execution_count": 5,
   "metadata": {},
   "outputs": [
    {
     "name": "stdout",
     "output_type": "stream",
     "text": [
      "I ate three apples, so I was sick for three day.\n"
     ]
    }
   ],
   "source": [
    "number = 10\n",
    "day = \"three\"\n",
    "print(\"I ate {0} apples, so I was sick for {1} day.\".format(day, day))"
   ]
  },
  {
   "cell_type": "code",
   "execution_count": 6,
   "metadata": {},
   "outputs": [
    {
     "name": "stdout",
     "output_type": "stream",
     "text": [
      "2\n"
     ]
    }
   ],
   "source": [
    "# 문자열 관련 함수\n",
    "# 문자 개수 세기(count)\n",
    "a = \"hobby\"\n",
    "print(a.count('b'))"
   ]
  },
  {
   "cell_type": "code",
   "execution_count": 16,
   "metadata": {},
   "outputs": [
    {
     "name": "stdout",
     "output_type": "stream",
     "text": [
      "10\n",
      "b\n",
      "-1\n"
     ]
    }
   ],
   "source": [
    "# 위치 알려주기(find)\n",
    "a = \"Python is best choice.\"\n",
    "print(a.find('b'))\n",
    "print(a[10])\n",
    "# print(a.index('k'))\n",
    "print(a.find('k'))"
   ]
  },
  {
   "cell_type": "code",
   "execution_count": 12,
   "metadata": {},
   "outputs": [
    {
     "name": "stdout",
     "output_type": "stream",
     "text": [
      "8\n"
     ]
    }
   ],
   "source": [
    "# 위치 알려주기(index)\n",
    "a = \"Life is too short\"\n",
    "print(a.index('t'))"
   ]
  },
  {
   "cell_type": "code",
   "execution_count": 13,
   "metadata": {},
   "outputs": [
    {
     "ename": "ValueError",
     "evalue": "substring not found",
     "output_type": "error",
     "traceback": [
      "\u001b[1;31m---------------------------------------------------------------------------\u001b[0m",
      "\u001b[1;31mValueError\u001b[0m                                Traceback (most recent call last)",
      "\u001b[1;32m<ipython-input-13-fd3ab8088f7a>\u001b[0m in \u001b[0;36m<module>\u001b[1;34m\u001b[0m\n\u001b[1;32m----> 1\u001b[1;33m \u001b[0mprint\u001b[0m\u001b[1;33m(\u001b[0m\u001b[0ma\u001b[0m\u001b[1;33m.\u001b[0m\u001b[0mindex\u001b[0m\u001b[1;33m(\u001b[0m\u001b[1;34m'k'\u001b[0m\u001b[1;33m)\u001b[0m\u001b[1;33m)\u001b[0m\u001b[1;33m\u001b[0m\u001b[1;33m\u001b[0m\u001b[0m\n\u001b[0m",
      "\u001b[1;31mValueError\u001b[0m: substring not found"
     ]
    }
   ],
   "source": [
    "print(a.index('k'))"
   ]
  },
  {
   "cell_type": "code",
   "execution_count": 20,
   "metadata": {},
   "outputs": [
    {
     "name": "stdout",
     "output_type": "stream",
     "text": [
      "a b c d\n"
     ]
    }
   ],
   "source": [
    "# 문자열 삽입(join)\n",
    "a = \",\"\n",
    "print(\" \".join(\"abcd\"))"
   ]
  },
  {
   "cell_type": "code",
   "execution_count": 21,
   "metadata": {},
   "outputs": [
    {
     "name": "stdout",
     "output_type": "stream",
     "text": [
      "HI\n"
     ]
    }
   ],
   "source": [
    "a = 'hi'\n",
    "print(a.upper())"
   ]
  },
  {
   "cell_type": "code",
   "execution_count": 22,
   "metadata": {},
   "outputs": [
    {
     "name": "stdout",
     "output_type": "stream",
     "text": [
      "hi\n"
     ]
    }
   ],
   "source": [
    "a = 'HI'\n",
    "print(a.lower())"
   ]
  },
  {
   "cell_type": "code",
   "execution_count": 23,
   "metadata": {},
   "outputs": [
    {
     "name": "stdout",
     "output_type": "stream",
     "text": [
      "hi\n"
     ]
    }
   ],
   "source": [
    "# 양쪽 공백 지우기(strip)\n",
    "a = ' hi '\n",
    "print(a.strip())"
   ]
  },
  {
   "cell_type": "code",
   "execution_count": 25,
   "metadata": {},
   "outputs": [
    {
     "name": "stdout",
     "output_type": "stream",
     "text": [
      " hi\n"
     ]
    }
   ],
   "source": [
    "a = ' hi '\n",
    "print(a.rstrip())"
   ]
  },
  {
   "cell_type": "code",
   "execution_count": 32,
   "metadata": {},
   "outputs": [
    {
     "name": "stdout",
     "output_type": "stream",
     "text": [
      "300.00\n"
     ]
    }
   ],
   "source": [
    "a = '$300.00'\n",
    "print(a.strip('$'))"
   ]
  },
  {
   "cell_type": "code",
   "execution_count": 33,
   "metadata": {},
   "outputs": [
    {
     "name": "stdout",
     "output_type": "stream",
     "text": [
      "Your leg is too short\n"
     ]
    }
   ],
   "source": [
    "# 문자열 바꾸기(replace)\n",
    "a = \"Life is too short\"\n",
    "print(a.replace(\"Life\", \"Your leg\"))"
   ]
  },
  {
   "cell_type": "code",
   "execution_count": 34,
   "metadata": {},
   "outputs": [
    {
     "name": "stdout",
     "output_type": "stream",
     "text": [
      "['Life', 'is', 'too', 'short']\n"
     ]
    }
   ],
   "source": [
    "# 문자열 나누기(split)\n",
    "a = \"Life is too short\"\n",
    "print(a.split())"
   ]
  },
  {
   "cell_type": "code",
   "execution_count": 35,
   "metadata": {},
   "outputs": [
    {
     "name": "stdout",
     "output_type": "stream",
     "text": [
      "['a', 'b', 'c', 'd']\n"
     ]
    }
   ],
   "source": [
    "a = \"a,b,c,d\"  # csv (common sperate value)\n",
    "print(a.split(\",\"))\n"
   ]
  },
  {
   "cell_type": "code",
   "execution_count": 38,
   "metadata": {},
   "outputs": [
    {
     "name": "stdout",
     "output_type": "stream",
     "text": [
      "97\n",
      "44032\n"
     ]
    }
   ],
   "source": [
    "# 유니코드 (아스키 코드)\n",
    "print(ord('a'))\n",
    "print(ord('가'))"
   ]
  },
  {
   "cell_type": "code",
   "execution_count": 41,
   "metadata": {},
   "outputs": [
    {
     "name": "stdout",
     "output_type": "stream",
     "text": [
      "a\n",
      "끌\n"
     ]
    }
   ],
   "source": [
    "print(chr(97))\n",
    "print(chr(45132))"
   ]
  },
  {
   "cell_type": "code",
   "execution_count": null,
   "metadata": {},
   "outputs": [],
   "source": []
  }
 ],
 "metadata": {
  "kernelspec": {
   "display_name": "Python 3",
   "language": "python",
   "name": "python3"
  },
  "language_info": {
   "codemirror_mode": {
    "name": "ipython",
    "version": 3
   },
   "file_extension": ".py",
   "mimetype": "text/x-python",
   "name": "python",
   "nbconvert_exporter": "python",
   "pygments_lexer": "ipython3",
   "version": "3.7.1"
  }
 },
 "nbformat": 4,
 "nbformat_minor": 2
}
